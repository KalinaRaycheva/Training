{
 "cells": [
  {
   "cell_type": "code",
   "execution_count": 0,
   "metadata": {
    "application/vnd.databricks.v1+cell": {
     "cellMetadata": {},
     "inputWidgets": {},
     "nuid": "cefd7869-436e-4ab6-b30c-ff4247236bfd",
     "showTitle": false,
     "title": ""
    }
   },
   "outputs": [],
   "source": [
    "CREATE TABLE IF NOT EXISTS managed_default(width INT, length INT, height INT);\n",
    "  INSERT INTO managed_default VALUES(3 INT, 2 INT, 1 INT)"
   ]
  }
 ],
 "metadata": {
  "application/vnd.databricks.v1+notebook": {
   "dashboards": [],
   "language": "sql",
   "notebookMetadata": {
    "pythonIndentUnit": 4
   },
   "notebookName": "04_Views",
   "notebookOrigID": 1087406879181263,
   "widgets": {}
  }
 },
 "nbformat": 4,
 "nbformat_minor": 0
}
